{
 "cells": [
  {
   "cell_type": "code",
   "execution_count": 1,
   "metadata": {},
   "outputs": [],
   "source": [
    "import numpy as np\n",
    "import pandas as pd\n",
    "\n",
    "# Wrangle the data\n",
    "gold_data = pd.read_csv(\"LBMA-GOLD.csv\")\n",
    "btc_data = pd.read_csv(\"BCHAIN-MKPRU.csv\")\n",
    "\n",
    "gold_date = list(gold_data['Date'].values)\n",
    "gold_prices = list(gold_data['USD (PM)'].values)\n",
    "btc_date = list(btc_data['Date'].values)\n",
    "btc_prices = list(btc_data['Value'].values)\n",
    "#gold_prices"
   ]
  },
  {
   "cell_type": "code",
   "execution_count": 51,
   "metadata": {},
   "outputs": [],
   "source": [
    "# Adjust the gold prices i.e. price =  none during weekends\n",
    "adjusted_gold_prices =[None]*len(btc_prices)\n",
    "counter = 0\n",
    "\n",
    "for index in range(len(btc_date)):\n",
    "    if btc_date[index] == gold_date[counter]:\n",
    "        price = gold_prices[counter]\n",
    "        if np.isnan(price):\n",
    "            adjusted_gold_prices[index] = None\n",
    "        else:\n",
    "            adjusted_gold_prices[index] = price\n",
    "        counter += 1\n",
    "        \n",
    "# Count how many datapoints are NOT available in the dataset\n",
    "no_data_counter = 0\n",
    "for index in range(len(gold_prices)):\n",
    "    if np.isnan(gold_prices[index]):\n",
    "        no_data_counter += 1\n",
    "\n",
    "# Create a new list that consists available gold prices only\n",
    "clean_gold_prices = [None]*(len(gold_prices) - no_data_counter)\n",
    "\n",
    "\n",
    "counter = 0\n",
    "for index in range(len(gold_prices)):\n",
    "    if not np.isnan(gold_prices[index]):\n",
    "        clean_gold_prices[counter] = gold_prices[index]\n",
    "        counter += 1\n",
    "        \n",
    "# clean_gold_prices"
   ]
  },
  {
   "cell_type": "code",
   "execution_count": 29,
   "metadata": {},
   "outputs": [],
   "source": [
    "# Create the comprehensive table\n",
    "\n",
    "table = [None] * len(btc_prices)\n",
    "\n",
    "for index in range(len(btc_date)):\n",
    "    row = [btc_date[index], adjusted_gold_prices[index], btc_prices[index]]\n",
    "    table[index] = row\n",
    "\n",
    "# table"
   ]
  },
  {
   "cell_type": "code",
   "execution_count": 58,
   "metadata": {},
   "outputs": [],
   "source": [
    "# TODO: Create MA10\n",
    "MA10_gold = [None]*(len(clean_gold_prices)-9)\n",
    "MA10_btc = [None]*(len(btc_prices)-9)\n",
    "\n",
    "current_gold_sum = sum(clean_gold_prices[0:10])\n",
    "MA10_gold[0] = current_gold_sum/10\n",
    "for index in range(len(MA10_gold)-10):\n",
    "    current_sum = current_sum - clean_gold_prices[index] + clean_gold_prices[9 + index + 1]\n",
    "    MA10_gold[index+1] = current_gold_sum/10\n",
    "\n",
    "current_btc_sum = sum(btc_prices[0:10])\n",
    "MA10_btc[0] = current_btc_sum/10\n",
    "for index in range(len(MA10_btc)-10):\n",
    "    current_btc_sum = current_btc_sum - btc_prices[index] + btc_prices[9 + index + 1]\n",
    "    MA10_btc[index+1] = current_btc_sum/10"
   ]
  }
 ],
 "metadata": {
  "interpreter": {
   "hash": "31f2aee4e71d21fbe5cf8b01ff0e069b9275f58929596ceb00d14d90e3e16cd6"
  },
  "kernelspec": {
   "display_name": "Python 3 (ipykernel)",
   "language": "python",
   "name": "python3"
  },
  "language_info": {
   "codemirror_mode": {
    "name": "ipython",
    "version": 3
   },
   "file_extension": ".py",
   "mimetype": "text/x-python",
   "name": "python",
   "nbconvert_exporter": "python",
   "pygments_lexer": "ipython3",
   "version": "3.9.10"
  }
 },
 "nbformat": 4,
 "nbformat_minor": 2
}
